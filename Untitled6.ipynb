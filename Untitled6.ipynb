{
 "cells": [
  {
   "cell_type": "code",
   "execution_count": 59,
   "id": "ea1ffa0d",
   "metadata": {},
   "outputs": [
    {
     "name": "stdout",
     "output_type": "stream",
     "text": [
      "88\n"
     ]
    }
   ],
   "source": [
    "marks = {\"Andy\":88, \"Amy\":66, \"James\": 90, \"Jules\": 55, \"Arthur\": 77}\n",
    "\n",
    "student = \"\"\n",
    "def student_grade(student):\n",
    "    print(marks[student])\n",
    "    if (marks[student])< 0:\n",
    "        print (\"cannot find students name\")\n",
    "student_grade(\"Andy\")\n",
    "        \n"
   ]
  },
  {
   "cell_type": "code",
   "execution_count": 35,
   "id": "4446e500",
   "metadata": {},
   "outputs": [
    {
     "name": "stdout",
     "output_type": "stream",
     "text": [
      "75.2\n"
     ]
    }
   ],
   "source": [
    "import statistics\n",
    "\n",
    "marks = {\"Andy\":88, \"Amy\":66, \"James\": 90, \"Jules\": 55, \"Arthur\": 77}\n",
    "\n",
    "def average():\n",
    "    avg = sum(marks.values())/ len(marks)\n",
    "    print(avg)\n",
    "    \n",
    "average()"
   ]
  },
  {
   "cell_type": "code",
   "execution_count": 41,
   "id": "4d78afd2",
   "metadata": {},
   "outputs": [
    {
     "name": "stdout",
     "output_type": "stream",
     "text": [
      "greater than\n"
     ]
    }
   ],
   "source": [
    "def less_n(n):\n",
    "    while n < num:\n",
    "        print(n)\n",
    "        print(n*n)\n",
    "        break\n",
    "    while n > num:\n",
    "        print(\"greater than\")\n",
    "        break\n",
    "\n",
    "num = 8\n",
    "less_n(10)"
   ]
  },
  {
   "cell_type": "code",
   "execution_count": 51,
   "id": "c128e298",
   "metadata": {},
   "outputs": [
    {
     "name": "stdout",
     "output_type": "stream",
     "text": [
      "15\n"
     ]
    }
   ],
   "source": [
    "def sumnum(x):\n",
    "    i = 1\n",
    "    sum = 0 \n",
    "    while i<=x:\n",
    "        sum=sum+i\n",
    "        i=i+1\n",
    "    print(sum)\n",
    "\n",
    "sumnum(5)"
   ]
  },
  {
   "cell_type": "code",
   "execution_count": 77,
   "id": "703e6ac1",
   "metadata": {},
   "outputs": [
    {
     "name": "stdout",
     "output_type": "stream",
     "text": [
      "1\n",
      "3\n",
      "6\n",
      "10\n",
      "15\n",
      "21\n",
      "28\n",
      "36\n",
      "45\n",
      "55\n",
      "66\n",
      "78\n",
      "91\n",
      "105\n",
      "120\n",
      "136\n",
      "153\n",
      "171\n",
      "190\n",
      "210\n",
      "231\n",
      "253\n",
      "276\n",
      "300\n",
      "325\n",
      "351\n",
      "378\n",
      "406\n",
      "435\n",
      "465\n",
      "496\n",
      "528\n",
      "561\n",
      "595\n",
      "630\n",
      "666\n",
      "703\n",
      "741\n",
      "780\n",
      "820\n",
      "861\n",
      "903\n",
      "946\n",
      "990\n",
      "1035\n",
      "1081\n",
      "1128\n",
      "1176\n",
      "1225\n",
      "1275\n",
      "1326\n",
      "1378\n",
      "1431\n",
      "1485\n",
      "1540\n",
      "1596\n",
      "1653\n",
      "1711\n",
      "1770\n",
      "1830\n",
      "1891\n",
      "1953\n",
      "2016\n",
      "2080\n",
      "2145\n",
      "2211\n",
      "2278\n",
      "2346\n",
      "2415\n",
      "2485\n",
      "2556\n",
      "2628\n",
      "2701\n",
      "2775\n",
      "2850\n",
      "2926\n",
      "3003\n",
      "3081\n",
      "3160\n",
      "3240\n",
      "3321\n",
      "3403\n",
      "3486\n",
      "3570\n",
      "3655\n",
      "3741\n",
      "3828\n",
      "3916\n",
      "4005\n",
      "4095\n",
      "4186\n",
      "4278\n",
      "4371\n",
      "4465\n",
      "4560\n",
      "4656\n",
      "4753\n",
      "4851\n",
      "4950\n",
      "5050\n"
     ]
    }
   ],
   "source": [
    "\n",
    "def forsum(x):\n",
    "    sum = 0\n",
    "    for i in range(1,x+1):\n",
    "        sum=sum+i\n",
    "        i=i+1\n",
    "        print(sum)\n",
    "        \n",
    "forsum(100)"
   ]
  },
  {
   "cell_type": "code",
   "execution_count": 78,
   "id": "6247d7c4",
   "metadata": {},
   "outputs": [
    {
     "name": "stdout",
     "output_type": "stream",
     "text": [
      "50.5\n",
      "5050\n",
      "28.86607004772212\n"
     ]
    }
   ],
   "source": [
    "import numpy as np\n",
    "\n",
    "list = []\n",
    "for i in range(1,101):\n",
    "    list.append(i)\n",
    "    \n",
    "print(np.mean(list))\n",
    "print(np.sum(list))\n",
    "print(np.std(list))"
   ]
  },
  {
   "cell_type": "code",
   "execution_count": 88,
   "id": "61950125",
   "metadata": {},
   "outputs": [
    {
     "name": "stdout",
     "output_type": "stream",
     "text": [
      "4\n"
     ]
    }
   ],
   "source": [
    "def minimal(v1,v2,v3,v4):\n",
    "    if v1 < v2 and v2 and v4:\n",
    "        print (v1)\n",
    "    elif v2 < v1 and v3 and v4:\n",
    "        print (v2)\n",
    "    elif v3 < v2 and v1 and v4:\n",
    "        print (v3)\n",
    "    elif v4 < v1 and v3 and v2:\n",
    "        print (v4)\n",
    "        \n",
    "    \n",
    "minimal(6,4,7,5)"
   ]
  },
  {
   "cell_type": "code",
   "execution_count": null,
   "id": "ce424bb6",
   "metadata": {},
   "outputs": [],
   "source": [
    "def concatstring(str1,str2,str3):\n",
    "    print (str1 + ' ' + str2 + ' ' + str3)\n",
    "    \n",
    "concatstring(\"hello\",\"my\",\"world\")"
   ]
  }
 ],
 "metadata": {
  "kernelspec": {
   "display_name": "Python 3",
   "language": "python",
   "name": "python3"
  },
  "language_info": {
   "codemirror_mode": {
    "name": "ipython",
    "version": 3
   },
   "file_extension": ".py",
   "mimetype": "text/x-python",
   "name": "python",
   "nbconvert_exporter": "python",
   "pygments_lexer": "ipython3",
   "version": "3.8.8"
  }
 },
 "nbformat": 4,
 "nbformat_minor": 5
}
